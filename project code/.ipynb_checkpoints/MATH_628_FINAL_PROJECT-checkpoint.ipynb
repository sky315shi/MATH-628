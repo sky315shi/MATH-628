{
 "cells": [
  {
   "cell_type": "markdown",
   "id": "7fae7bfe",
   "metadata": {},
   "source": [
    "## MATH 628 FINAL PROJECT\n",
    "### Chunlin Shi   Noah Collins"
   ]
  },
  {
   "cell_type": "code",
   "execution_count": 3,
   "id": "5fecc790",
   "metadata": {},
   "outputs": [
    {
     "ename": "PermissionError",
     "evalue": "[Errno 13] Permission denied: 'data.xlsx'",
     "output_type": "error",
     "traceback": [
      "\u001b[1;31m---------------------------------------------------------------------------\u001b[0m",
      "\u001b[1;31mPermissionError\u001b[0m                           Traceback (most recent call last)",
      "\u001b[1;32m~\\AppData\\Local\\Temp\\ipykernel_12476\\1233243080.py\u001b[0m in \u001b[0;36m<module>\u001b[1;34m\u001b[0m\n\u001b[0;32m      4\u001b[0m \u001b[1;32mfrom\u001b[0m \u001b[0msklearn\u001b[0m\u001b[1;33m.\u001b[0m\u001b[0mpreprocessing\u001b[0m \u001b[1;32mimport\u001b[0m \u001b[0mStandardScaler\u001b[0m\u001b[1;33m\u001b[0m\u001b[1;33m\u001b[0m\u001b[0m\n\u001b[0;32m      5\u001b[0m \u001b[1;32mimport\u001b[0m \u001b[0mmatplotlib\u001b[0m\u001b[1;33m.\u001b[0m\u001b[0mpyplot\u001b[0m \u001b[1;32mas\u001b[0m \u001b[0mplt\u001b[0m\u001b[1;33m\u001b[0m\u001b[1;33m\u001b[0m\u001b[0m\n\u001b[1;32m----> 6\u001b[1;33m \u001b[0mdata\u001b[0m \u001b[1;33m=\u001b[0m \u001b[0mpd\u001b[0m\u001b[1;33m.\u001b[0m\u001b[0mread_excel\u001b[0m\u001b[1;33m(\u001b[0m\u001b[1;34m'data.xlsx'\u001b[0m\u001b[1;33m)\u001b[0m\u001b[1;33m\u001b[0m\u001b[1;33m\u001b[0m\u001b[0m\n\u001b[0m\u001b[0;32m      7\u001b[0m \u001b[0mdata\u001b[0m\u001b[1;33m\u001b[0m\u001b[1;33m\u001b[0m\u001b[0m\n",
      "\u001b[1;32mC:\\ProgramData\\Anaconda3\\lib\\site-packages\\pandas\\util\\_decorators.py\u001b[0m in \u001b[0;36mwrapper\u001b[1;34m(*args, **kwargs)\u001b[0m\n\u001b[0;32m    309\u001b[0m                     \u001b[0mstacklevel\u001b[0m\u001b[1;33m=\u001b[0m\u001b[0mstacklevel\u001b[0m\u001b[1;33m,\u001b[0m\u001b[1;33m\u001b[0m\u001b[1;33m\u001b[0m\u001b[0m\n\u001b[0;32m    310\u001b[0m                 )\n\u001b[1;32m--> 311\u001b[1;33m             \u001b[1;32mreturn\u001b[0m \u001b[0mfunc\u001b[0m\u001b[1;33m(\u001b[0m\u001b[1;33m*\u001b[0m\u001b[0margs\u001b[0m\u001b[1;33m,\u001b[0m \u001b[1;33m**\u001b[0m\u001b[0mkwargs\u001b[0m\u001b[1;33m)\u001b[0m\u001b[1;33m\u001b[0m\u001b[1;33m\u001b[0m\u001b[0m\n\u001b[0m\u001b[0;32m    312\u001b[0m \u001b[1;33m\u001b[0m\u001b[0m\n\u001b[0;32m    313\u001b[0m         \u001b[1;32mreturn\u001b[0m \u001b[0mwrapper\u001b[0m\u001b[1;33m\u001b[0m\u001b[1;33m\u001b[0m\u001b[0m\n",
      "\u001b[1;32mC:\\ProgramData\\Anaconda3\\lib\\site-packages\\pandas\\io\\excel\\_base.py\u001b[0m in \u001b[0;36mread_excel\u001b[1;34m(io, sheet_name, header, names, index_col, usecols, squeeze, dtype, engine, converters, true_values, false_values, skiprows, nrows, na_values, keep_default_na, na_filter, verbose, parse_dates, date_parser, thousands, decimal, comment, skipfooter, convert_float, mangle_dupe_cols, storage_options)\u001b[0m\n\u001b[0;32m    455\u001b[0m     \u001b[1;32mif\u001b[0m \u001b[1;32mnot\u001b[0m \u001b[0misinstance\u001b[0m\u001b[1;33m(\u001b[0m\u001b[0mio\u001b[0m\u001b[1;33m,\u001b[0m \u001b[0mExcelFile\u001b[0m\u001b[1;33m)\u001b[0m\u001b[1;33m:\u001b[0m\u001b[1;33m\u001b[0m\u001b[1;33m\u001b[0m\u001b[0m\n\u001b[0;32m    456\u001b[0m         \u001b[0mshould_close\u001b[0m \u001b[1;33m=\u001b[0m \u001b[1;32mTrue\u001b[0m\u001b[1;33m\u001b[0m\u001b[1;33m\u001b[0m\u001b[0m\n\u001b[1;32m--> 457\u001b[1;33m         \u001b[0mio\u001b[0m \u001b[1;33m=\u001b[0m \u001b[0mExcelFile\u001b[0m\u001b[1;33m(\u001b[0m\u001b[0mio\u001b[0m\u001b[1;33m,\u001b[0m \u001b[0mstorage_options\u001b[0m\u001b[1;33m=\u001b[0m\u001b[0mstorage_options\u001b[0m\u001b[1;33m,\u001b[0m \u001b[0mengine\u001b[0m\u001b[1;33m=\u001b[0m\u001b[0mengine\u001b[0m\u001b[1;33m)\u001b[0m\u001b[1;33m\u001b[0m\u001b[1;33m\u001b[0m\u001b[0m\n\u001b[0m\u001b[0;32m    458\u001b[0m     \u001b[1;32melif\u001b[0m \u001b[0mengine\u001b[0m \u001b[1;32mand\u001b[0m \u001b[0mengine\u001b[0m \u001b[1;33m!=\u001b[0m \u001b[0mio\u001b[0m\u001b[1;33m.\u001b[0m\u001b[0mengine\u001b[0m\u001b[1;33m:\u001b[0m\u001b[1;33m\u001b[0m\u001b[1;33m\u001b[0m\u001b[0m\n\u001b[0;32m    459\u001b[0m         raise ValueError(\n",
      "\u001b[1;32mC:\\ProgramData\\Anaconda3\\lib\\site-packages\\pandas\\io\\excel\\_base.py\u001b[0m in \u001b[0;36m__init__\u001b[1;34m(self, path_or_buffer, engine, storage_options)\u001b[0m\n\u001b[0;32m   1374\u001b[0m                 \u001b[0mext\u001b[0m \u001b[1;33m=\u001b[0m \u001b[1;34m\"xls\"\u001b[0m\u001b[1;33m\u001b[0m\u001b[1;33m\u001b[0m\u001b[0m\n\u001b[0;32m   1375\u001b[0m             \u001b[1;32melse\u001b[0m\u001b[1;33m:\u001b[0m\u001b[1;33m\u001b[0m\u001b[1;33m\u001b[0m\u001b[0m\n\u001b[1;32m-> 1376\u001b[1;33m                 ext = inspect_excel_format(\n\u001b[0m\u001b[0;32m   1377\u001b[0m                     \u001b[0mcontent_or_path\u001b[0m\u001b[1;33m=\u001b[0m\u001b[0mpath_or_buffer\u001b[0m\u001b[1;33m,\u001b[0m \u001b[0mstorage_options\u001b[0m\u001b[1;33m=\u001b[0m\u001b[0mstorage_options\u001b[0m\u001b[1;33m\u001b[0m\u001b[1;33m\u001b[0m\u001b[0m\n\u001b[0;32m   1378\u001b[0m                 )\n",
      "\u001b[1;32mC:\\ProgramData\\Anaconda3\\lib\\site-packages\\pandas\\io\\excel\\_base.py\u001b[0m in \u001b[0;36minspect_excel_format\u001b[1;34m(content_or_path, storage_options)\u001b[0m\n\u001b[0;32m   1248\u001b[0m         \u001b[0mcontent_or_path\u001b[0m \u001b[1;33m=\u001b[0m \u001b[0mBytesIO\u001b[0m\u001b[1;33m(\u001b[0m\u001b[0mcontent_or_path\u001b[0m\u001b[1;33m)\u001b[0m\u001b[1;33m\u001b[0m\u001b[1;33m\u001b[0m\u001b[0m\n\u001b[0;32m   1249\u001b[0m \u001b[1;33m\u001b[0m\u001b[0m\n\u001b[1;32m-> 1250\u001b[1;33m     with get_handle(\n\u001b[0m\u001b[0;32m   1251\u001b[0m         \u001b[0mcontent_or_path\u001b[0m\u001b[1;33m,\u001b[0m \u001b[1;34m\"rb\"\u001b[0m\u001b[1;33m,\u001b[0m \u001b[0mstorage_options\u001b[0m\u001b[1;33m=\u001b[0m\u001b[0mstorage_options\u001b[0m\u001b[1;33m,\u001b[0m \u001b[0mis_text\u001b[0m\u001b[1;33m=\u001b[0m\u001b[1;32mFalse\u001b[0m\u001b[1;33m\u001b[0m\u001b[1;33m\u001b[0m\u001b[0m\n\u001b[0;32m   1252\u001b[0m     ) as handle:\n",
      "\u001b[1;32mC:\\ProgramData\\Anaconda3\\lib\\site-packages\\pandas\\io\\common.py\u001b[0m in \u001b[0;36mget_handle\u001b[1;34m(path_or_buf, mode, encoding, compression, memory_map, is_text, errors, storage_options)\u001b[0m\n\u001b[0;32m    793\u001b[0m         \u001b[1;32melse\u001b[0m\u001b[1;33m:\u001b[0m\u001b[1;33m\u001b[0m\u001b[1;33m\u001b[0m\u001b[0m\n\u001b[0;32m    794\u001b[0m             \u001b[1;31m# Binary mode\u001b[0m\u001b[1;33m\u001b[0m\u001b[1;33m\u001b[0m\u001b[0m\n\u001b[1;32m--> 795\u001b[1;33m             \u001b[0mhandle\u001b[0m \u001b[1;33m=\u001b[0m \u001b[0mopen\u001b[0m\u001b[1;33m(\u001b[0m\u001b[0mhandle\u001b[0m\u001b[1;33m,\u001b[0m \u001b[0mioargs\u001b[0m\u001b[1;33m.\u001b[0m\u001b[0mmode\u001b[0m\u001b[1;33m)\u001b[0m\u001b[1;33m\u001b[0m\u001b[1;33m\u001b[0m\u001b[0m\n\u001b[0m\u001b[0;32m    796\u001b[0m         \u001b[0mhandles\u001b[0m\u001b[1;33m.\u001b[0m\u001b[0mappend\u001b[0m\u001b[1;33m(\u001b[0m\u001b[0mhandle\u001b[0m\u001b[1;33m)\u001b[0m\u001b[1;33m\u001b[0m\u001b[1;33m\u001b[0m\u001b[0m\n\u001b[0;32m    797\u001b[0m \u001b[1;33m\u001b[0m\u001b[0m\n",
      "\u001b[1;31mPermissionError\u001b[0m: [Errno 13] Permission denied: 'data.xlsx'"
     ]
    }
   ],
   "source": [
    "import pandas as pd\n",
    "import numpy as np\n",
    "from sklearn.decomposition import PCA\n",
    "from sklearn.preprocessing import StandardScaler\n",
    "import matplotlib.pyplot as plt\n",
    "data = pd.read_excel('data.xlsx')\n",
    "data"
   ]
  },
  {
   "cell_type": "code",
   "execution_count": null,
   "id": "131d7a26",
   "metadata": {},
   "outputs": [],
   "source": [
    "data_ret = data[['Ticker Symbol','Names Date','Returns without Dividends']]\n",
    "data_ret"
   ]
  },
  {
   "cell_type": "code",
   "execution_count": null,
   "id": "fb2f8901",
   "metadata": {},
   "outputs": [],
   "source": [
    "data_ret = data_ret.pivot_table(index='Names Date', columns='Ticker Symbol', values='Returns without Dividends')\n",
    "data_ret"
   ]
  },
  {
   "cell_type": "code",
   "execution_count": null,
   "id": "b378711c",
   "metadata": {
    "scrolled": true
   },
   "outputs": [],
   "source": [
    "data_ret.info()"
   ]
  },
  {
   "cell_type": "markdown",
   "id": "66005c0e",
   "metadata": {},
   "source": [
    "## From above, we can see that there is no null values for the return data\n",
    "## We then standardize the return data"
   ]
  },
  {
   "cell_type": "code",
   "execution_count": null,
   "id": "e30c32a1",
   "metadata": {},
   "outputs": [],
   "source": [
    "scaler = StandardScaler()\n",
    "scaled_data = scaler.fit_transform(data_ret)\n",
    "scaled_data = pd.DataFrame(scaled_data)\n",
    "scaled_data.columns = data_ret.columns\n",
    "\n",
    "scaled_data"
   ]
  },
  {
   "cell_type": "markdown",
   "id": "6cf60d48",
   "metadata": {},
   "source": [
    "## Now we can do PCA analysis"
   ]
  },
  {
   "cell_type": "code",
   "execution_count": null,
   "id": "6d93026f",
   "metadata": {},
   "outputs": [],
   "source": [
    "pca = PCA(n_components=3)\n",
    "pca.fit(scaled_data)"
   ]
  },
  {
   "cell_type": "markdown",
   "id": "41bbafa9",
   "metadata": {},
   "source": [
    "## We extract the second and the third eigenvector from PCA"
   ]
  },
  {
   "cell_type": "code",
   "execution_count": null,
   "id": "c1668891",
   "metadata": {},
   "outputs": [],
   "source": [
    "eigenvectors = pca.components_\n",
    "second_eigenvector = eigenvectors[1]\n",
    "third_eigenvector = eigenvectors[2]"
   ]
  },
  {
   "cell_type": "code",
   "execution_count": null,
   "id": "a7ce3264",
   "metadata": {},
   "outputs": [],
   "source": [
    "correlation_matrix = scaled_data.corr()\n",
    "correlation_matrix"
   ]
  },
  {
   "cell_type": "code",
   "execution_count": null,
   "id": "0c50ddd8",
   "metadata": {},
   "outputs": [],
   "source": [
    "eigenvalues = np.linalg.eigvals(correlation_matrix)\n",
    "eigenvalues"
   ]
  },
  {
   "cell_type": "code",
   "execution_count": null,
   "id": "d8c506e4",
   "metadata": {},
   "outputs": [],
   "source": [
    "sorted_eigenvalues = np.sort(eigenvalues)[::-1]  # Reverse the order\n",
    "\n",
    "# Plotting the eigenvalues\n",
    "plt.figure(figsize=(8, 6))\n",
    "plt.bar(range(len(sorted_eigenvalues)), sorted_eigenvalues, color='skyblue')\n",
    "plt.xlabel('Eigenvalue Index')\n",
    "plt.ylabel('Eigenvalue Magnitude')\n",
    "plt.title('Eigenvalues Plot')\n",
    "plt.show()"
   ]
  },
  {
   "cell_type": "code",
   "execution_count": null,
   "id": "af41914c",
   "metadata": {},
   "outputs": [],
   "source": [
    "total_variance = np.sum(eigenvalues)\n",
    "explained_variance_ratio = eigenvalues / total_variance\n",
    "\n",
    "# Plotting the eigenvalues\n",
    "plt.figure(figsize=(8, 6))\n",
    "plt.bar(range(len(explained_variance_ratio)), explained_variance_ratio, color='skyblue')\n",
    "plt.ylabel('Percentage')\n",
    "plt.title('Cursory Analysis')\n",
    "plt.show()"
   ]
  },
  {
   "cell_type": "markdown",
   "id": "cd263998",
   "metadata": {},
   "source": [
    "## We calculate the cumulative return of eigenportfolio"
   ]
  },
  {
   "cell_type": "code",
   "execution_count": null,
   "id": "21f77f3a",
   "metadata": {},
   "outputs": [],
   "source": [
    "cov_matrix = np.cov(scaled_data, rowvar=False)\n",
    "\n",
    "# Compute eigenvalues and eigenvectors\n",
    "eigenvalues, eigenvectors = np.linalg.eig(cov_matrix)\n",
    "\n",
    "# Select top eigenportfolio (e.g., first eigenvector)\n",
    "top_eigenvector = eigenvectors[:, 0]  # Replace '0' with the index of the desired eigenvector\n",
    "\n",
    "# Construct eigenportfolio by normalizing weights\n",
    "eigenportfolio = top_eigenvector / np.sum(top_eigenvector)\n",
    "eigenportfolio_returns = np.dot(data_ret, eigenportfolio)\n",
    "\n",
    "cumulative_return = np.cumprod(1 + eigenportfolio_returns) - 1\n",
    "\n",
    "cumulative_return = pd.DataFrame(cumulative_return)\n",
    "cumulative_return"
   ]
  },
  {
   "cell_type": "markdown",
   "id": "3190de01",
   "metadata": {},
   "source": [
    "## Now we calculate the cumulative return of market cap weighted portfolio"
   ]
  },
  {
   "cell_type": "code",
   "execution_count": null,
   "id": "d1ebe49c",
   "metadata": {},
   "outputs": [],
   "source": [
    "mkt_cap = data[['Ticker Symbol','Names Date','Price or Bid/Ask Average','Shares Outstanding','Returns without Dividends']]\n",
    "mkt_cap"
   ]
  },
  {
   "cell_type": "code",
   "execution_count": null,
   "id": "0d60959b",
   "metadata": {},
   "outputs": [],
   "source": [
    "shr = pd.Series(mkt_cap.groupby('Ticker Symbol')['Shares Outstanding'].sum()/252)\n",
    "shr"
   ]
  },
  {
   "cell_type": "code",
   "execution_count": null,
   "id": "7c6aa9c6",
   "metadata": {},
   "outputs": [],
   "source": [
    "mkt_ret = mkt_cap[['Ticker Symbol','Names Date','Price or Bid/Ask Average']]\n",
    "mkt_ret = mkt_ret.pivot_table(index='Names Date', columns='Ticker Symbol', values='Price or Bid/Ask Average')\n",
    "mkt_ret"
   ]
  },
  {
   "cell_type": "code",
   "execution_count": null,
   "id": "c12ae1a9",
   "metadata": {},
   "outputs": [],
   "source": [
    "market_caps = mkt_ret * shr\n",
    "market_caps"
   ]
  },
  {
   "cell_type": "code",
   "execution_count": null,
   "id": "6c359403",
   "metadata": {},
   "outputs": [],
   "source": [
    "weights = market_caps.div(market_caps.sum(axis=1), axis=0)\n",
    "weights"
   ]
  },
  {
   "cell_type": "code",
   "execution_count": null,
   "id": "1180e061",
   "metadata": {},
   "outputs": [],
   "source": [
    "daily_mkt_ret = data[['Ticker Symbol','Names Date','Returns without Dividends']]\n",
    "daily_mkt_ret = daily_mkt_ret.pivot_table(index='Names Date', columns='Ticker Symbol', values='Returns without Dividends')\n",
    "daily_mkt_ret = (daily_mkt_ret * weights).sum(axis=1)\n",
    "daily_mkt_ret"
   ]
  },
  {
   "cell_type": "code",
   "execution_count": null,
   "id": "168b58a8",
   "metadata": {},
   "outputs": [],
   "source": [
    "daily_mkt_ret = daily_mkt_ret.reset_index(drop=True)\n",
    "daily_mkt_ret = np.cumprod(1 + daily_mkt_ret) - 1\n",
    "daily_mkt_ret = pd.DataFrame(daily_mkt_ret)\n",
    "daily_mkt_ret"
   ]
  },
  {
   "cell_type": "markdown",
   "id": "6cd3054d",
   "metadata": {},
   "source": [
    "## We plot the cumulative return of eigenportfolio and market cap weighted portfolio in the same graph"
   ]
  },
  {
   "cell_type": "code",
   "execution_count": null,
   "id": "7be524af",
   "metadata": {},
   "outputs": [],
   "source": [
    "plt.figure(figsize=(8, 6))\n",
    "plt.plot(daily_mkt_ret, label='Market Weighted Portfolio')\n",
    "plt.plot(cumulative_return, label='Eigen Portfolio')\n",
    "plt.xlabel('Days')\n",
    "plt.ylabel('Cumulated Return')\n",
    "plt.title('Market Weighted Portfolio and Eigen Portfolio Cumulated Return')\n",
    "plt.legend()\n",
    "plt.show()"
   ]
  },
  {
   "cell_type": "code",
   "execution_count": null,
   "id": "af882cc8",
   "metadata": {},
   "outputs": [],
   "source": [
    "signs = pd.DataFrame({'Stock': scaled_data.columns, \n",
    "                      'Second_Eigenvector': second_eigenvector,\n",
    "                      'Third_Eigenvector': third_eigenvector})"
   ]
  },
  {
   "cell_type": "code",
   "execution_count": null,
   "id": "c5d12a36",
   "metadata": {
    "scrolled": false
   },
   "outputs": [],
   "source": [
    "signs "
   ]
  },
  {
   "cell_type": "markdown",
   "id": "406a04a2",
   "metadata": {},
   "source": [
    "## We extract industry code from the original table"
   ]
  },
  {
   "cell_type": "code",
   "execution_count": null,
   "id": "b9a101b7",
   "metadata": {},
   "outputs": [],
   "source": [
    "industry_data = data[['Ticker Symbol', 'North American Industry Classification System']].drop_duplicates()\n",
    "industry_data = industry_data.rename(columns={'Ticker Symbol': 'Stock'})\n",
    "industry_data = industry_data.sort_values(by='North American Industry Classification System')\n",
    "industry_data = industry_data.reset_index(drop=True)\n",
    "industry_data"
   ]
  },
  {
   "cell_type": "code",
   "execution_count": null,
   "id": "12f3af1c",
   "metadata": {
    "scrolled": true
   },
   "outputs": [],
   "source": [
    "signs_with_industry = signs.merge(industry_data, on='Stock')\n",
    "signs_with_industry = signs_with_industry.sort_values('North American Industry Classification System').reset_index(drop = True)\n",
    "signs_with_industry"
   ]
  },
  {
   "cell_type": "markdown",
   "id": "fff900cf",
   "metadata": {},
   "source": [
    "#### From table above, we can see that within the same industry group, the signs of second eigenvector and the third eigenvector are the same"
   ]
  }
 ],
 "metadata": {
  "kernelspec": {
   "display_name": "Python 3 (ipykernel)",
   "language": "python",
   "name": "python3"
  },
  "language_info": {
   "codemirror_mode": {
    "name": "ipython",
    "version": 3
   },
   "file_extension": ".py",
   "mimetype": "text/x-python",
   "name": "python",
   "nbconvert_exporter": "python",
   "pygments_lexer": "ipython3",
   "version": "3.9.13"
  }
 },
 "nbformat": 4,
 "nbformat_minor": 5
}
